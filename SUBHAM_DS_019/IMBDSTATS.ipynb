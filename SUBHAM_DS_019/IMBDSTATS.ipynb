{
 "cells": [
  {
   "cell_type": "code",
   "execution_count": null,
   "id": "5435f76f",
   "metadata": {},
   "outputs": [],
   "source": [
    "#HERA PHERI"
   ]
  },
  {
   "cell_type": "code",
   "execution_count": 1,
   "id": "f7e73255",
   "metadata": {},
   "outputs": [
    {
     "data": {
      "text/html": [
       "<div>\n",
       "<style scoped>\n",
       "    .dataframe tbody tr th:only-of-type {\n",
       "        vertical-align: middle;\n",
       "    }\n",
       "\n",
       "    .dataframe tbody tr th {\n",
       "        vertical-align: top;\n",
       "    }\n",
       "\n",
       "    .dataframe thead th {\n",
       "        text-align: right;\n",
       "    }\n",
       "</style>\n",
       "<table border=\"1\" class=\"dataframe\">\n",
       "  <thead>\n",
       "    <tr style=\"text-align: right;\">\n",
       "      <th></th>\n",
       "      <th>Ratings</th>\n",
       "      <th>Votes</th>\n",
       "    </tr>\n",
       "  </thead>\n",
       "  <tbody>\n",
       "    <tr>\n",
       "      <th>0</th>\n",
       "      <td>10</td>\n",
       "      <td>26000</td>\n",
       "    </tr>\n",
       "    <tr>\n",
       "      <th>1</th>\n",
       "      <td>9</td>\n",
       "      <td>17000</td>\n",
       "    </tr>\n",
       "    <tr>\n",
       "      <th>2</th>\n",
       "      <td>8</td>\n",
       "      <td>14000</td>\n",
       "    </tr>\n",
       "    <tr>\n",
       "      <th>3</th>\n",
       "      <td>7</td>\n",
       "      <td>5500</td>\n",
       "    </tr>\n",
       "    <tr>\n",
       "      <th>4</th>\n",
       "      <td>6</td>\n",
       "      <td>2700</td>\n",
       "    </tr>\n",
       "    <tr>\n",
       "      <th>5</th>\n",
       "      <td>5</td>\n",
       "      <td>1300</td>\n",
       "    </tr>\n",
       "    <tr>\n",
       "      <th>6</th>\n",
       "      <td>4</td>\n",
       "      <td>808</td>\n",
       "    </tr>\n",
       "    <tr>\n",
       "      <th>7</th>\n",
       "      <td>3</td>\n",
       "      <td>643</td>\n",
       "    </tr>\n",
       "    <tr>\n",
       "      <th>8</th>\n",
       "      <td>2</td>\n",
       "      <td>677</td>\n",
       "    </tr>\n",
       "    <tr>\n",
       "      <th>9</th>\n",
       "      <td>1</td>\n",
       "      <td>2300</td>\n",
       "    </tr>\n",
       "  </tbody>\n",
       "</table>\n",
       "</div>"
      ],
      "text/plain": [
       "   Ratings  Votes\n",
       "0       10  26000\n",
       "1        9  17000\n",
       "2        8  14000\n",
       "3        7   5500\n",
       "4        6   2700\n",
       "5        5   1300\n",
       "6        4    808\n",
       "7        3    643\n",
       "8        2    677\n",
       "9        1   2300"
      ]
     },
     "execution_count": 1,
     "metadata": {},
     "output_type": "execute_result"
    }
   ],
   "source": [
    "import pandas as pd\n",
    "df=pd.DataFrame({\"Ratings\":[10,9,8,7,6,5,4,3,2,1],\"Votes\":[26000,17000,14000,5500,2700,1300,808,643,677,2300]})\n",
    "df"
   ]
  },
  {
   "cell_type": "code",
   "execution_count": 2,
   "id": "08297a84",
   "metadata": {},
   "outputs": [
    {
     "name": "stdout",
     "output_type": "stream",
     "text": [
      "[10, 9, 8, 7, 6, 5, 4, 3, 2, 1]\n",
      "[26000, 17000, 14000, 5500, 2700, 1300, 808, 643, 677, 2300]\n",
      "595015\n"
     ]
    }
   ],
   "source": [
    "rt=df['Ratings'].tolist()                        \n",
    "print(rt)\n",
    "vt=df['Votes'].tolist()                \n",
    "print(vt)\n",
    "sumr=sum(rt[i]*vt[i] for i in range(len(rt)))       # TOTAL \n",
    "print(sumr)"
   ]
  },
  {
   "cell_type": "code",
   "execution_count": 3,
   "id": "fd78bc00",
   "metadata": {},
   "outputs": [
    {
     "name": "stdout",
     "output_type": "stream",
     "text": [
      "70928\n",
      "The Arithmetic Mean of the Movie Hera Pheri is : 8.389000112790436\n"
     ]
    }
   ],
   "source": [
    "fq=(df['Votes']).sum()             # FREQUENCY\n",
    "print(fq)\n",
    "mean=sumr/fq                    # CALCULATING MEAN\n",
    "print(\"The Arithmetic Mean of the Movie Hera Pheri is :\",mean)"
   ]
  },
  {
   "cell_type": "code",
   "execution_count": 6,
   "id": "e180f04f",
   "metadata": {},
   "outputs": [
    {
     "name": "stdout",
     "output_type": "stream",
     "text": [
      "0    10\n",
      "0    10\n",
      "0    10\n",
      "0    10\n",
      "0    10\n",
      "     ..\n",
      "9     1\n",
      "9     1\n",
      "9     1\n",
      "9     1\n",
      "9     1\n",
      "Name: Ratings, Length: 70928, dtype: int64\n",
      "9.0\n"
     ]
    }
   ],
   "source": [
    "import numpy as np\n",
    "sorted_ratings = np.repeat(df['Ratings'], df['Votes'])\n",
    "median = np.median(sorted_ratings)\n",
    "print(sorted_ratings)\n",
    "print(median)"
   ]
  },
  {
   "cell_type": "code",
   "execution_count": null,
   "id": "12c00aee",
   "metadata": {},
   "outputs": [],
   "source": [
    "#RAMJI RAO SPEAKING"
   ]
  },
  {
   "cell_type": "code",
   "execution_count": 7,
   "id": "2c7e3146",
   "metadata": {},
   "outputs": [
    {
     "data": {
      "text/html": [
       "<div>\n",
       "<style scoped>\n",
       "    .dataframe tbody tr th:only-of-type {\n",
       "        vertical-align: middle;\n",
       "    }\n",
       "\n",
       "    .dataframe tbody tr th {\n",
       "        vertical-align: top;\n",
       "    }\n",
       "\n",
       "    .dataframe thead th {\n",
       "        text-align: right;\n",
       "    }\n",
       "</style>\n",
       "<table border=\"1\" class=\"dataframe\">\n",
       "  <thead>\n",
       "    <tr style=\"text-align: right;\">\n",
       "      <th></th>\n",
       "      <th>Ratings</th>\n",
       "      <th>Votes</th>\n",
       "    </tr>\n",
       "  </thead>\n",
       "  <tbody>\n",
       "    <tr>\n",
       "      <th>0</th>\n",
       "      <td>10</td>\n",
       "      <td>943</td>\n",
       "    </tr>\n",
       "    <tr>\n",
       "      <th>1</th>\n",
       "      <td>9</td>\n",
       "      <td>1000</td>\n",
       "    </tr>\n",
       "    <tr>\n",
       "      <th>2</th>\n",
       "      <td>8</td>\n",
       "      <td>907</td>\n",
       "    </tr>\n",
       "    <tr>\n",
       "      <th>3</th>\n",
       "      <td>7</td>\n",
       "      <td>355</td>\n",
       "    </tr>\n",
       "    <tr>\n",
       "      <th>4</th>\n",
       "      <td>6</td>\n",
       "      <td>82</td>\n",
       "    </tr>\n",
       "    <tr>\n",
       "      <th>5</th>\n",
       "      <td>5</td>\n",
       "      <td>25</td>\n",
       "    </tr>\n",
       "    <tr>\n",
       "      <th>6</th>\n",
       "      <td>4</td>\n",
       "      <td>9</td>\n",
       "    </tr>\n",
       "    <tr>\n",
       "      <th>7</th>\n",
       "      <td>3</td>\n",
       "      <td>6</td>\n",
       "    </tr>\n",
       "    <tr>\n",
       "      <th>8</th>\n",
       "      <td>2</td>\n",
       "      <td>11</td>\n",
       "    </tr>\n",
       "    <tr>\n",
       "      <th>9</th>\n",
       "      <td>1</td>\n",
       "      <td>57</td>\n",
       "    </tr>\n",
       "  </tbody>\n",
       "</table>\n",
       "</div>"
      ],
      "text/plain": [
       "   Ratings  Votes\n",
       "0       10    943\n",
       "1        9   1000\n",
       "2        8    907\n",
       "3        7    355\n",
       "4        6     82\n",
       "5        5     25\n",
       "6        4      9\n",
       "7        3      6\n",
       "8        2     11\n",
       "9        1     57"
      ]
     },
     "execution_count": 7,
     "metadata": {},
     "output_type": "execute_result"
    }
   ],
   "source": [
    "import pandas as pd\n",
    "df1=pd.DataFrame({\"Ratings\":[10,9,8,7,6,5,4,3,2,1],\"Votes\":[943,1000,907,355,82,25,9,6,11,57]})\n",
    "df1"
   ]
  },
  {
   "cell_type": "code",
   "execution_count": 8,
   "id": "9db15bb4",
   "metadata": {},
   "outputs": [
    {
     "name": "stdout",
     "output_type": "stream",
     "text": [
      "[10, 9, 8, 7, 6, 5, 4, 3, 2, 1]\n",
      "[943, 1000, 907, 355, 82, 25, 9, 6, 11, 57]\n",
      "28921\n"
     ]
    }
   ],
   "source": [
    "rt1=df1['Ratings'].tolist()                        \n",
    "print(rt1)\n",
    "vt1=df1['Votes'].tolist()                \n",
    "print(vt1)\n",
    "sumr1=sum(rt1[i]*vt1[i] for i in range(len(rt1)))       # TOTAL \n",
    "print(sumr1)"
   ]
  },
  {
   "cell_type": "code",
   "execution_count": 11,
   "id": "a1bfc632",
   "metadata": {},
   "outputs": [
    {
     "name": "stdout",
     "output_type": "stream",
     "text": [
      "3395\n",
      "The Arithmetic Mean of the Movie Ramji Rao Speaking is : 8.518703976435935\n"
     ]
    }
   ],
   "source": [
    "fq1=(df1['Votes']).sum()             # FREQUENCY\n",
    "print(fq1)\n",
    "mean1=sumr1/fq1                    # CALCULATING MEAN\n",
    "print(\"The Arithmetic Mean of the Movie Ramji Rao Speaking is :\",mean1)"
   ]
  },
  {
   "cell_type": "code",
   "execution_count": 10,
   "id": "11f35f35",
   "metadata": {},
   "outputs": [
    {
     "name": "stdout",
     "output_type": "stream",
     "text": [
      "0    10\n",
      "0    10\n",
      "0    10\n",
      "0    10\n",
      "0    10\n",
      "     ..\n",
      "9     1\n",
      "9     1\n",
      "9     1\n",
      "9     1\n",
      "9     1\n",
      "Name: Ratings, Length: 3395, dtype: int64\n",
      "9.0\n"
     ]
    }
   ],
   "source": [
    "import numpy as np\n",
    "sorted_ratings1 = np.repeat(df1['Ratings'], df1['Votes'])\n",
    "median1 = np.median(sorted_ratings)\n",
    "print(sorted_ratings1)\n",
    "print(median1)"
   ]
  },
  {
   "cell_type": "code",
   "execution_count": 16,
   "id": "3fb3c2bb",
   "metadata": {},
   "outputs": [
    {
     "data": {
      "image/png": "[encoded data removed]",
      "text/plain": [
       "<Figure size 640x480 with 1 Axes>"
      ]
     },
     "metadata": {},
     "output_type": "display_data"
    }
   ],
   "source": [
    "#COMPARISION OF MEAN\n",
    "import matplotlib.pyplot as plt \n",
    "labels=['HERA PHERI','RAMJI RAO SPEAKING']\n",
    "no_of_people= [mean,mean1]\n",
    "explode=(0.01,0.01)\n",
    "fig1,ax1=plt.subplots()\n",
    "ax1.pie(no_of_people,explode=explode,labels=labels,autopct='%1.1f%%',startangle=90)\n",
    "ax1.axis('equal')\n",
    "plt.tight_layout()\n",
    "plt.show()\n"
   ]
  },
  {
   "cell_type": "code",
   "execution_count": 17,
   "id": "9da61e57",
   "metadata": {},
   "outputs": [
    {
     "data": {
      "image/png": "[encoded data removed]",
      "text/plain": [
       "<Figure size 640x480 with 1 Axes>"
      ]
     },
     "metadata": {},
     "output_type": "display_data"
    }
   ],
   "source": [
    "#COMPARISION OF MEDIAN\n",
    "import matplotlib.pyplot as plt \n",
    "labels=['HERA PHERI','RAMJI RAO SPEAKING']\n",
    "no_of_people= [median,median1]\n",
    "explode=(0.01,0.01)\n",
    "fig1,ax1=plt.subplots()\n",
    "ax1.pie(no_of_people,explode=explode,labels=labels,autopct='%1.1f%%',startangle=90)\n",
    "ax1.axis('equal')\n",
    "plt.tight_layout()\n",
    "plt.show()\n"
   ]
  },
  {
   "cell_type": "code",
   "execution_count": null,
   "id": "d55578d4",
   "metadata": {},
   "outputs": [],
   "source": []
  }
 ],
 "metadata": {
  "kernelspec": {
   "display_name": "Python 3 (ipykernel)",
   "language": "python",
   "name": "python3"
  },
  "language_info": {
   "codemirror_mode": {
    "name": "ipython",
    "version": 3
   },
   "file_extension": ".py",
   "mimetype": "text/x-python",
   "name": "python",
   "nbconvert_exporter": "python",
   "pygments_lexer": "ipython3",
   "version": "3.11.4"
  }
 },
 "nbformat": 4,
 "nbformat_minor": 5
}
